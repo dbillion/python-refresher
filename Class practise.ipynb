{
    "metadata": {
        "kernelspec": {
            "name": "python3",
            "display_name": "Python 3 (ipykernel)",
            "language": "python"
        },
        "language_info": {
            "name": "python",
            "version": "3.8.10",
            "mimetype": "text/x-python",
            "codemirror_mode": {
                "name": "ipython",
                "version": 3
            },
            "pygments_lexer": "ipython3",
            "nbconvert_exporter": "python",
            "file_extension": ".py"
        }
    },
    "nbformat_minor": 2,
    "nbformat": 4,
    "cells": [
        {
            "cell_type": "markdown",
            "source": [
                "basic operations"
            ],
            "metadata": {
                "azdata_cell_guid": "ca9cb10f-d70e-4aaf-bed4-1360f988da95"
            },
            "attachments": {}
        },
        {
            "cell_type": "code",
            "source": [
                "print(\"hello world\")"
            ],
            "metadata": {
                "azdata_cell_guid": "5d20f68b-6cd5-4d15-8da7-7118f34323ff"
            },
            "outputs": [
                {
                    "name": "stdout",
                    "text": "hello world\n",
                    "output_type": "stream"
                }
            ],
            "execution_count": 1
        },
        {
            "cell_type": "markdown",
            "source": [
                "other practise tools"
            ],
            "metadata": {
                "azdata_cell_guid": "a0237d0d-e353-4b05-b668-6918dec81375"
            },
            "attachments": {}
        },
        {
            "cell_type": "code",
            "source": [
                "a=\"hello\";\r\n",
                "b=\" Dayo\";\r\n",
                "c=a+b\r\n",
                "print(c)\r\n",
                "d=a*2\r\n",
                "print(d)\r\n",
                "\r\n",
                ""
            ],
            "metadata": {
                "azdata_cell_guid": "718744c7-37b0-47a0-a3ed-ac09c2d08c1c"
            },
            "outputs": [
                {
                    "name": "stdout",
                    "text": "hello Dayo\nhellohello\n",
                    "output_type": "stream"
                }
            ],
            "execution_count": 2
        },
        {
            "cell_type": "code",
            "source": [
                "print(\"Hello, World!\")"
            ],
            "metadata": {
                "azdata_cell_guid": "79756b75-3179-4814-872e-ba48bffefaac"
            },
            "outputs": [
                {
                    "name": "stdout",
                    "text": "Hello, World!\n",
                    "output_type": "stream"
                }
            ],
            "execution_count": 4
        },
        {
            "cell_type": "code",
            "source": [
                "if 5 > 2:\r\n",
                "  print(\"Five is greater than two!\")"
            ],
            "metadata": {
                "azdata_cell_guid": "6aac1c95-fd46-42a9-855b-01ab590dd854"
            },
            "outputs": [
                {
                    "name": "stdout",
                    "text": "Five is greater than two!\n",
                    "output_type": "stream"
                }
            ],
            "execution_count": 5
        },
        {
            "cell_type": "markdown",
            "source": [
                "indentation in python is very important, it represents block or scope,"
            ],
            "metadata": {
                "azdata_cell_guid": "44328e1e-39be-4792-9f0f-cd412b3ca431"
            },
            "attachments": {}
        },
        {
            "cell_type": "code",
            "source": [
                "if 5 > 2:\r\n",
                "print(\"Five is greater than two!\")"
            ],
            "metadata": {
                "azdata_cell_guid": "a1ab9414-687b-48b8-bc6c-28ab0984c1dc"
            },
            "outputs": [
                {
                    "traceback": [
                        "\u001b[1;36m  Input \u001b[1;32mIn [6]\u001b[1;36m\u001b[0m\n\u001b[1;33m    print(\"Five is greater than two!\")\u001b[0m\n\u001b[1;37m    ^\u001b[0m\n\u001b[1;31mIndentationError\u001b[0m\u001b[1;31m:\u001b[0m expected an indented block\n"
                    ],
                    "ename": "IndentationError",
                    "evalue": "expected an indented block (3793329317.py, line 2)",
                    "output_type": "error"
                }
            ],
            "execution_count": 6
        },
        {
            "cell_type": "markdown",
            "source": [
                "The number of spaces is up to you as a programmer, but it has to be at least one"
            ],
            "metadata": {
                "azdata_cell_guid": "292d7156-aa21-488f-8d54-5e2de19105de"
            },
            "attachments": {}
        },
        {
            "cell_type": "code",
            "source": [
                "if 5 > 2:\r\n",
                " print(\"Five is greater than two!\") \r\n",
                "if 5 > 2:\r\n",
                "        print(\"Five is greater than two!\") "
            ],
            "metadata": {
                "azdata_cell_guid": "ae7fd151-0683-4ab1-aef8-468fcf408b77"
            },
            "outputs": [
                {
                    "name": "stdout",
                    "text": "Five is greater than two!\nFive is greater than two!\n",
                    "output_type": "stream"
                }
            ],
            "execution_count": 7
        },
        {
            "cell_type": "markdown",
            "source": [
                "**You have to use the same number of spaces** <mark>in the same block of cod</mark>e, otherwise **Python will give you an error:**"
            ],
            "metadata": {
                "azdata_cell_guid": "7541f651-2be4-4b06-b641-9555f1cc45d0"
            },
            "attachments": {}
        },
        {
            "cell_type": "code",
            "source": [
                "if 5 > 2:\r\n",
                " print(\"Five is greater than two!\")\r\n",
                "        print(\"Five is greater than two!\") "
            ],
            "metadata": {
                "azdata_cell_guid": "5c0c032f-5372-466f-9c5c-c7fd7f28d15c",
                "tags": []
            },
            "outputs": [
                {
                    "traceback": [
                        "\u001b[1;36m  Input \u001b[1;32mIn [8]\u001b[1;36m\u001b[0m\n\u001b[1;33m    print(\"Five is greater than two!\")\u001b[0m\n\u001b[1;37m    ^\u001b[0m\n\u001b[1;31mIndentationError\u001b[0m\u001b[1;31m:\u001b[0m unexpected indent\n"
                    ],
                    "ename": "IndentationError",
                    "evalue": "unexpected indent (3219708185.py, line 3)",
                    "output_type": "error"
                }
            ],
            "execution_count": 8
        },
        {
            "cell_type": "markdown",
            "source": [
                "In Python, **variables are created when you assign a value to it**\n",
                "\n",
                " **Python has no command for declaring a variable.**"
            ],
            "metadata": {
                "azdata_cell_guid": "33116216-71bc-457d-8258-6e76068592c2"
            },
            "attachments": {}
        },
        {
            "cell_type": "code",
            "source": [
                "x = 5\r\n",
                "y = \"Hello, World!\""
            ],
            "metadata": {
                "azdata_cell_guid": "4076e745-443a-4eaf-8ad3-a663e1cc04fa"
            },
            "outputs": [],
            "execution_count": null
        },
        {
            "cell_type": "markdown",
            "source": [
                "**Python has commenting capability for the purpose of in-code documentation.**\n",
                "\n",
                "_**<u><mark>Comments start with a #, and Python will render the rest of the line as a comment:</mark></u>**_"
            ],
            "metadata": {
                "azdata_cell_guid": "a928d024-2b78-4c42-b408-07884f8905b7"
            },
            "attachments": {}
        },
        {
            "cell_type": "code",
            "source": [
                "#This is a comment.\r\n",
                "print(\"Hello, World!\")"
            ],
            "metadata": {
                "azdata_cell_guid": "203f63ac-0924-4abf-bff1-15662b4d2869"
            },
            "outputs": [
                {
                    "name": "stdout",
                    "text": "Hello, World!\n",
                    "output_type": "stream"
                }
            ],
            "execution_count": 9
        },
        {
            "cell_type": "markdown",
            "source": [
                "<mark>_Comments can be used to_</mark> **explain Python code.**\n",
                "\n",
                "_<mark>Comments can be used t</mark>_**_<mark>o</mark>_ make the code more readable.**\n",
                "\n",
                "<mark>_Comments can be used to_</mark> **prevent execution when testing code**."
            ],
            "metadata": {
                "azdata_cell_guid": "71d9025b-fa86-4216-850a-075c6702bc75"
            },
            "attachments": {}
        },
        {
            "cell_type": "code",
            "source": [
                "#This is a comment\r\n",
                "print(\"Hello, World!\")"
            ],
            "metadata": {
                "azdata_cell_guid": "8904b95c-e780-4704-bd4f-164b68d8135c"
            },
            "outputs": [
                {
                    "name": "stdout",
                    "text": "Hello, World!\n",
                    "output_type": "stream"
                }
            ],
            "execution_count": 10
        },
        {
            "cell_type": "markdown",
            "source": [
                "<mark>Comments can be placed at the end of a line, and</mark> **Python will ignore the rest of the line:**"
            ],
            "metadata": {
                "azdata_cell_guid": "9f4127dd-3bd9-47b3-b4ce-dcf58440a140"
            },
            "attachments": {}
        },
        {
            "cell_type": "code",
            "source": [
                " print(\"Hello, World!\") #This is a comment "
            ],
            "metadata": {
                "azdata_cell_guid": "71ee646d-5eb1-4a34-a107-9e023f3fe673"
            },
            "outputs": [
                {
                    "name": "stdout",
                    "text": "Hello, World!\n",
                    "output_type": "stream"
                }
            ],
            "execution_count": 11
        },
        {
            "cell_type": "markdown",
            "source": [
                "A comment does not have to be text that explains the code**, it can also be used to prevent Python from executing code:**"
            ],
            "metadata": {
                "azdata_cell_guid": "d291d3ea-3037-4229-aea3-257f8f818a67"
            },
            "attachments": {}
        },
        {
            "cell_type": "code",
            "source": [
                "#print(\"Hello, World!\")\r\n",
                "print(\"Cheers, Mate!\") "
            ],
            "metadata": {
                "azdata_cell_guid": "75e11261-3911-4326-bb54-dbf0e872bac0"
            },
            "outputs": [
                {
                    "name": "stdout",
                    "text": "Cheers, Mate!\n",
                    "output_type": "stream"
                }
            ],
            "execution_count": 12
        },
        {
            "cell_type": "markdown",
            "source": [
                "Python does not really have a syntax for multi line comments.\n",
                "\n",
                "To add a multiline comment you could insert a `#` for each line:"
            ],
            "metadata": {
                "azdata_cell_guid": "74b10354-aea8-4961-8b31-48e35653cada"
            },
            "attachments": {}
        },
        {
            "cell_type": "code",
            "source": [
                "#This is a comment\r\n",
                "#written in\r\n",
                "#more than just one line\r\n",
                "print(\"Hello, World!\")"
            ],
            "metadata": {
                "azdata_cell_guid": "382b8e18-6998-45b0-80ab-dfa543fc2e81"
            },
            "outputs": [
                {
                    "name": "stdout",
                    "text": "Hello, World!\n",
                    "output_type": "stream"
                }
            ],
            "execution_count": 13
        },
        {
            "cell_type": "markdown",
            "source": [
                "Since Python will ignore string literals that are not assigned to a variable, **you can add a multiline string (triple quotes) in your code, and place your comment inside it:**"
            ],
            "metadata": {
                "azdata_cell_guid": "c73717cd-1572-41db-bf82-9114b81bd243"
            },
            "attachments": {}
        },
        {
            "cell_type": "code",
            "source": [
                "\"\"\"\r\n",
                "This is a comment\r\n",
                "written in\r\n",
                "more than just one line\r\n",
                "\"\"\"\r\n",
                "print(\"Hello, World!\") "
            ],
            "metadata": {
                "azdata_cell_guid": "37e11caa-018e-4cfd-87bc-e948724b1d24"
            },
            "outputs": [
                {
                    "name": "stdout",
                    "text": "Hello, World!\n",
                    "output_type": "stream"
                }
            ],
            "execution_count": 14
        },
        {
            "cell_type": "markdown",
            "source": [
                "**Variables are containers for storing data values.**"
            ],
            "metadata": {
                "azdata_cell_guid": "1a9a2a81-5f68-4905-8b95-64c8609c994a"
            },
            "attachments": {}
        },
        {
            "cell_type": "markdown",
            "source": [
                "Python has **no command for declaring a variable.**\n",
                "\n",
                "**A variable is created the moment you first assign a value to it.**"
            ],
            "metadata": {
                "azdata_cell_guid": "7b678914-d900-4adb-b3eb-93ac69a61fe5"
            },
            "attachments": {}
        },
        {
            "cell_type": "code",
            "source": [
                "x = 5\r\n",
                "y = \"John\"\r\n",
                "print(x)\r\n",
                "print(y)"
            ],
            "metadata": {
                "azdata_cell_guid": "6b2e85c8-b413-4d30-97f2-02dedc98c034"
            },
            "outputs": [
                {
                    "name": "stdout",
                    "text": "5\nJohn\n",
                    "output_type": "stream"
                }
            ],
            "execution_count": 15
        },
        {
            "cell_type": "markdown",
            "source": [
                "_**<mark>Variables do not need to be declared with any particular type,</mark>**_ **and can even change type after they have been set.**"
            ],
            "metadata": {
                "azdata_cell_guid": "a125ad63-7802-4c85-bfbd-641c0fcd1554"
            },
            "attachments": {}
        },
        {
            "cell_type": "code",
            "source": [
                "x = 4       # x is of type int\r\n",
                "x = \"Sally\" # x is now of type str\r\n",
                "print(x)"
            ],
            "metadata": {
                "azdata_cell_guid": "dc66161a-07c7-46f7-b39b-c4d30b678a62",
                "tags": [
                    "hide_input"
                ]
            },
            "outputs": [
                {
                    "name": "stdout",
                    "text": "Sally\n",
                    "output_type": "stream"
                }
            ],
            "execution_count": 16
        },
        {
            "cell_type": "markdown",
            "source": [
                "**_<u>If you want to specify the data type of a variable, this can be done with casting.</u>_**"
            ],
            "metadata": {
                "azdata_cell_guid": "6c0fb5b7-65a4-4db3-b185-7be53ff9bc1b"
            },
            "attachments": {}
        },
        {
            "cell_type": "code",
            "source": [
                "x = str(3)    # x will be '3'\r\n",
                "y = int(3)    # y will be 3\r\n",
                "z = float(3)  # z will be 3.0 "
            ],
            "metadata": {
                "azdata_cell_guid": "72d05104-c776-4da1-9b13-f709d181511a"
            },
            "outputs": [],
            "execution_count": 17
        },
        {
            "cell_type": "markdown",
            "source": [
                "You can get the data type of a variable with the `type()` function."
            ],
            "metadata": {
                "azdata_cell_guid": "b82e611b-eeb6-493d-a777-93efff59b621"
            },
            "attachments": {}
        },
        {
            "cell_type": "code",
            "source": [
                "x = 5\r\n",
                "y = \"John\"\r\n",
                "print(type(x))\r\n",
                "print(type(y)) "
            ],
            "metadata": {
                "azdata_cell_guid": "42e902df-6dce-4d4a-87be-dd17fe5d4096"
            },
            "outputs": [
                {
                    "name": "stdout",
                    "text": "<class 'int'>\n<class 'str'>\n",
                    "output_type": "stream"
                }
            ],
            "execution_count": 18
        },
        {
            "cell_type": "markdown",
            "source": [
                "**String variables** <mark>can be declared either by</mark> **using single or double quotes:**"
            ],
            "metadata": {
                "azdata_cell_guid": "f3761f01-d639-4311-a182-d03ff077348d"
            },
            "attachments": {}
        },
        {
            "cell_type": "code",
            "source": [
                "x = \"John\"\r\n",
                "# is the same as\r\n",
                "x = 'John'"
            ],
            "metadata": {
                "azdata_cell_guid": "5c33e9a6-9d8f-4524-8379-cbede305fd37"
            },
            "outputs": [],
            "execution_count": 19
        },
        {
            "cell_type": "markdown",
            "source": [
                "Variable names **are case-sensitive.**"
            ],
            "metadata": {
                "azdata_cell_guid": "d54636ab-7a71-4735-a979-94d856dd34c7"
            },
            "attachments": {}
        },
        {
            "cell_type": "code",
            "source": [
                "a = 4\r\n",
                "A = \"Sally\"\r\n",
                "#A will not overwrite a "
            ],
            "metadata": {
                "azdata_cell_guid": "3caae6f4-d446-4a94-8584-42a056a3712c"
            },
            "outputs": [],
            "execution_count": 20
        },
        {
            "cell_type": "markdown",
            "source": [
                "## Variable Names\n",
                "\n",
                "A variable can have a short name (like x and y) or a more descriptive name (age, carname, total\\_volume). Rules for Python variables:\n",
                "\n",
                "- A variable name must start with a letter or the underscore character\n",
                "- A variable name cannot start with a number\n",
                "- A variable name can only contain alpha-numeric characters and underscores (A-z, 0-9, and \\_ )\n",
                "- Variable names are case-sensitive (age, Age and AGE are three different variables)"
            ],
            "metadata": {
                "azdata_cell_guid": "a4aeac9d-6351-4e6e-b79b-530bbaff6a66"
            },
            "attachments": {}
        },
        {
            "cell_type": "code",
            "source": [
                "myvar = \"John\"\r\n",
                "my_var = \"John\"\r\n",
                "_my_var = \"John\"\r\n",
                "myVar = \"John\"\r\n",
                "MYVAR = \"John\"\r\n",
                "myvar2 = \"John\""
            ],
            "metadata": {
                "azdata_cell_guid": "901f8145-63c1-4668-8d4f-2605165455c0"
            },
            "outputs": [],
            "execution_count": null
        },
        {
            "cell_type": "markdown",
            "source": [
                "Illegal variable names:"
            ],
            "metadata": {
                "azdata_cell_guid": "616bde4f-d508-4e0f-9e78-3ac0a07ef591"
            },
            "attachments": {}
        },
        {
            "cell_type": "code",
            "source": [
                "2myvar = \"John\"\r\n",
                "my-var = \"John\"\r\n",
                "my var = \"John\""
            ],
            "metadata": {
                "azdata_cell_guid": "a8782c4b-64fd-42ac-ab83-303be30bc637"
            },
            "outputs": [],
            "execution_count": null
        },
        {
            "cell_type": "markdown",
            "source": [
                ""
            ],
            "metadata": {
                "azdata_cell_guid": "d6698751-be59-4bbb-a8d5-712c172d2e84"
            }
        },
        {
            "cell_type": "markdown",
            "source": [
                "## Multi Words Variable Names\n",
                "\n",
                "Variable names with more than one word can be difficult to read.\n",
                "\n",
                "There are several techniques you can use to make them more readable:\n",
                "\n",
                "## Camel Case\n",
                "\n",
                "Each word, except the first, starts with a capital letter:"
            ],
            "metadata": {
                "azdata_cell_guid": "f9d5b5c6-c664-4c62-b681-4a43de373ce2"
            },
            "attachments": {}
        },
        {
            "cell_type": "code",
            "source": [
                "myVariableName = \"John\""
            ],
            "metadata": {
                "azdata_cell_guid": "88dbfc3a-58a8-48d3-a4b4-8b012a43d096"
            },
            "outputs": [],
            "execution_count": null
        },
        {
            "cell_type": "markdown",
            "source": [
                "## Pascal Case\n",
                "\n",
                "Each word starts with a capital letter:"
            ],
            "metadata": {
                "azdata_cell_guid": "c2207028-c703-4d85-bfe0-80c93d2dcdbc"
            },
            "attachments": {}
        },
        {
            "cell_type": "code",
            "source": [
                "MyVariableName = \"John\""
            ],
            "metadata": {
                "azdata_cell_guid": "10d6b498-b0a9-43a1-bbd9-6f7cc682ff47"
            },
            "outputs": [],
            "execution_count": null
        },
        {
            "cell_type": "markdown",
            "source": [
                "## Snake Case\n",
                "\n",
                "Each word is separated by an underscore character:"
            ],
            "metadata": {
                "azdata_cell_guid": "458116ee-ec09-4d81-8310-05535fd831c8"
            },
            "attachments": {}
        },
        {
            "cell_type": "code",
            "source": [
                "my_variable_name = \"John\""
            ],
            "metadata": {
                "azdata_cell_guid": "ce8c274c-0080-491d-8d90-a10b28ec40f1"
            },
            "outputs": [],
            "execution_count": 21
        },
        {
            "cell_type": "markdown",
            "source": [
                "## Many Values to Multiple Variables\n",
                "\n",
                "Python allows you to assign values to multiple variables in one line:"
            ],
            "metadata": {
                "azdata_cell_guid": "99c9ffb2-d48a-45ab-b163-617ba437932a"
            },
            "attachments": {}
        },
        {
            "cell_type": "code",
            "source": [
                "x, y, z = \"Orange\", \"Banana\", \"Cherry\"\r\n",
                "print(x)\r\n",
                "print(y)\r\n",
                "print(z)"
            ],
            "metadata": {
                "azdata_cell_guid": "6433ddfe-69e4-4548-990a-4a5d2665e5e4"
            },
            "outputs": [
                {
                    "name": "stdout",
                    "text": "Orange\nBanana\nCherry\n",
                    "output_type": "stream"
                }
            ],
            "execution_count": 22
        },
        {
            "cell_type": "markdown",
            "source": [
                "**Note:** Make sure the number of variables matches the number of values, or else you will get an error."
            ],
            "metadata": {
                "azdata_cell_guid": "0f4a91c6-81d8-4dba-b654-436c8ecdb7a5"
            },
            "attachments": {}
        },
        {
            "cell_type": "markdown",
            "source": [
                "## One Value to Multiple Variables\n",
                "\n",
                "And you can assign the _same_ value to multiple variables in one line:"
            ],
            "metadata": {
                "azdata_cell_guid": "be2a3cfd-5f1d-4204-881f-9e57a0c01a42"
            },
            "attachments": {}
        },
        {
            "cell_type": "code",
            "source": [
                "x = y = z = \"Orange\"\r\n",
                "print(x)\r\n",
                "print(y)\r\n",
                "print(z)"
            ],
            "metadata": {
                "azdata_cell_guid": "7be02095-1fa2-4f2e-aac1-1f930bf2c666"
            },
            "outputs": [
                {
                    "name": "stdout",
                    "text": "Orange\nOrange\nOrange\n",
                    "output_type": "stream"
                }
            ],
            "execution_count": 23
        },
        {
            "cell_type": "markdown",
            "source": [
                "## Unpack a Collection\n",
                "\n",
                "If you have a collection of values in a list, tuple etc. Python allows you to extract the values into variables. This is called _unpacking_."
            ],
            "metadata": {
                "azdata_cell_guid": "2c521d57-c45c-43e6-b6ab-1ac4b98bd120"
            },
            "attachments": {}
        },
        {
            "cell_type": "code",
            "source": [
                "fruits = [\"apple\", \"banana\", \"cherry\"]\r\n",
                "x, y, z = fruits\r\n",
                "print(x)\r\n",
                "print(y)\r\n",
                "print(z)"
            ],
            "metadata": {
                "azdata_cell_guid": "666619b9-25c6-4daa-affe-41ed7343650c"
            },
            "outputs": [
                {
                    "name": "stdout",
                    "text": "apple\nbanana\ncherry\n",
                    "output_type": "stream"
                }
            ],
            "execution_count": 24
        },
        {
            "cell_type": "markdown",
            "source": [
                "## Output Variables\n",
                "\n",
                "The Python `print` statement is often used to output variables.\n",
                "\n",
                "To combine both text and a variable, Python uses the `+` character:"
            ],
            "metadata": {
                "azdata_cell_guid": "51e28607-e83e-4b34-a98c-d1602e5a4991"
            },
            "attachments": {}
        },
        {
            "cell_type": "code",
            "source": [
                "x = \"awesome\"\r\n",
                "print(\"Python is \" + x)"
            ],
            "metadata": {
                "azdata_cell_guid": "09313354-d4bb-4562-babd-276307642592"
            },
            "outputs": [
                {
                    "name": "stdout",
                    "text": "Python is awesome\n",
                    "output_type": "stream"
                }
            ],
            "execution_count": 25
        },
        {
            "cell_type": "markdown",
            "source": [
                "You can also use the `+` character to add a variable to another variable:"
            ],
            "metadata": {
                "azdata_cell_guid": "b3b457c1-bb3e-4bad-b9d3-76812e7036c0"
            },
            "attachments": {}
        },
        {
            "cell_type": "code",
            "source": [
                "x = \"Python is \"\r\n",
                "y = \"awesome\"\r\n",
                "z =  x + y\r\n",
                "print(z)"
            ],
            "metadata": {
                "azdata_cell_guid": "796df8a6-a94f-402f-bfb4-026ae6c23ae7"
            },
            "outputs": [
                {
                    "name": "stdout",
                    "text": "Python is awesome\n",
                    "output_type": "stream"
                }
            ],
            "execution_count": 26
        },
        {
            "cell_type": "markdown",
            "source": [
                "For numbers, the `+` character works as a mathematical operator:"
            ],
            "metadata": {
                "azdata_cell_guid": "ea9291e4-7234-4e6f-9536-70f7b967a363"
            },
            "attachments": {}
        },
        {
            "cell_type": "code",
            "source": [
                "x = 5\r\n",
                "y = 10\r\n",
                "print(x + y)"
            ],
            "metadata": {
                "azdata_cell_guid": "d13336b3-0bd0-4376-9ad0-368acf4498bc"
            },
            "outputs": [
                {
                    "name": "stdout",
                    "text": "15\n",
                    "output_type": "stream"
                }
            ],
            "execution_count": 27
        },
        {
            "cell_type": "markdown",
            "source": [
                "If you try to combine a string and a number, Python will give you an error:"
            ],
            "metadata": {
                "azdata_cell_guid": "6eccc9e9-5abf-4a28-ae34-656c0e1f2138"
            },
            "attachments": {}
        },
        {
            "cell_type": "code",
            "source": [
                "x = 5\r\n",
                "y = \"John\"\r\n",
                "print(x + y)"
            ],
            "metadata": {
                "azdata_cell_guid": "ff9939d6-155d-4dc8-ad10-8f030d34667c"
            },
            "outputs": [
                {
                    "traceback": [
                        "\u001b[1;31m---------------------------------------------------------------------------\u001b[0m",
                        "\u001b[1;31mTypeError\u001b[0m                                 Traceback (most recent call last)",
                        "Input \u001b[1;32mIn [28]\u001b[0m, in \u001b[0;36m<module>\u001b[1;34m\u001b[0m\n\u001b[0;32m      1\u001b[0m x \u001b[38;5;241m=\u001b[39m \u001b[38;5;241m5\u001b[39m\n\u001b[0;32m      2\u001b[0m y \u001b[38;5;241m=\u001b[39m \u001b[38;5;124m\"\u001b[39m\u001b[38;5;124mJohn\u001b[39m\u001b[38;5;124m\"\u001b[39m\n\u001b[1;32m----> 3\u001b[0m \u001b[38;5;28mprint\u001b[39m(\u001b[43mx\u001b[49m\u001b[43m \u001b[49m\u001b[38;5;241;43m+\u001b[39;49m\u001b[43m \u001b[49m\u001b[43my\u001b[49m)\n",
                        "\u001b[1;31mTypeError\u001b[0m: unsupported operand type(s) for +: 'int' and 'str'"
                    ],
                    "ename": "TypeError",
                    "evalue": "unsupported operand type(s) for +: 'int' and 'str'",
                    "output_type": "error"
                }
            ],
            "execution_count": 28
        },
        {
            "cell_type": "markdown",
            "source": [
                "## Global Variables\n",
                "\n",
                "Variables that are created outside of a function (as in all of the examples above) are known as global variables.\n",
                "\n",
                "Global variables can be used by everyone, both inside of functions and outside.\n",
                "\n",
                "Create a variable outside of a function, and use it inside the function"
            ],
            "metadata": {
                "azdata_cell_guid": "ab723eeb-9385-4e2c-9bd7-b44457747e75"
            },
            "attachments": {}
        },
        {
            "cell_type": "code",
            "source": [
                "x = \"awesome\"\r\n",
                "\r\n",
                "def myfunc():\r\n",
                "  print(\"Python is \" + x)\r\n",
                "\r\n",
                "myfunc() "
            ],
            "metadata": {
                "azdata_cell_guid": "524f0d05-3e2d-4604-aa8e-71e2afc9716e"
            },
            "outputs": [
                {
                    "name": "stdout",
                    "text": "Python is awesome\n",
                    "output_type": "stream"
                }
            ],
            "execution_count": 29
        },
        {
            "cell_type": "markdown",
            "source": [
                "If you create a variable with the same name inside a function,\n",
                "\n",
                "  **<u><mark>this variable will be local, and can only be used inside the function.</mark></u>** \n",
                "\n",
                "**The global variable with the same name will remain as it was, global and with the original value.**\n",
                "\n",
                "**Create a variable inside a function, with the same name as the global variable**"
            ],
            "metadata": {
                "azdata_cell_guid": "4cece9a7-1556-4c3b-93ec-3fbcd5651042"
            },
            "attachments": {}
        },
        {
            "cell_type": "code",
            "source": [
                "x = \"awesome\"\r\n",
                "\r\n",
                "def myfunc():\r\n",
                "  x = \"fantastic\"\r\n",
                "  print(\"Python is \" + x)\r\n",
                "\r\n",
                "myfunc()\r\n",
                "\r\n",
                "print(\"Python is \" + x) "
            ],
            "metadata": {
                "azdata_cell_guid": "12e21580-87da-40b3-bf12-383b6fb64bc7"
            },
            "outputs": [
                {
                    "name": "stdout",
                    "text": "Python is fantastic\nPython is awesome\n",
                    "output_type": "stream"
                }
            ],
            "execution_count": 30
        },
        {
            "cell_type": "markdown",
            "source": [
                "## **The global Keyword**\n",
                "\n",
                "Normally, when you create a variable inside a function, that variable is local, \n",
                "\n",
                "and can only be used inside that function.\n",
                "\n",
                "To create a global variable inside a function, you can use the `global` keyword.\n",
                "\n",
                "  \n",
                "\n",
                "### **Example**\n",
                "\n",
                "If you use the `global` keyword, the variable belongs to the global scope:"
            ],
            "metadata": {
                "azdata_cell_guid": "ffe5343a-552a-474f-bf58-4e537c6188e6"
            },
            "attachments": {}
        },
        {
            "cell_type": "code",
            "source": [
                "def myfunc():\r\n",
                "  global x\r\n",
                "  x = \"fantastic\"\r\n",
                "\r\n",
                "myfunc()\r\n",
                "\r\n",
                "print(\"Python is \" + x) "
            ],
            "metadata": {
                "azdata_cell_guid": "86859175-4446-4bdc-87a2-aac775f28953"
            },
            "outputs": [
                {
                    "name": "stdout",
                    "text": "Python is fantastic\n",
                    "output_type": "stream"
                }
            ],
            "execution_count": 31
        },
        {
            "cell_type": "markdown",
            "source": [
                "Also, use the `global` keyword if you want to change a global variable inside a function.\n",
                "\n",
                "To change the value of a global variable inside a function, refer to the variable by using the `global` keyword:"
            ],
            "metadata": {
                "azdata_cell_guid": "cc370dfd-9167-42d2-ae3c-98fa10531c86"
            },
            "attachments": {}
        },
        {
            "cell_type": "code",
            "source": [
                "x = \"awesome\"\r\n",
                "\r\n",
                "def myfunc():\r\n",
                "  global x\r\n",
                "  x = \"fantastic\"\r\n",
                "\r\n",
                "myfunc()\r\n",
                "\r\n",
                "print(\"Python is \" + x) "
            ],
            "metadata": {
                "azdata_cell_guid": "232cb3c7-402f-47ef-a5e3-e7756844f955"
            },
            "outputs": [
                {
                    "name": "stdout",
                    "text": "Python is fantastic\n",
                    "output_type": "stream"
                }
            ],
            "execution_count": 32
        },
        {
            "cell_type": "markdown",
            "source": [
                "## Built-in Data Types\n",
                "\n",
                "In programming, data type is an important concept.\n",
                "\n",
                "Variables can store data of different types, and different types can do different things.\n",
                "\n",
                "Python has the following data types built-in by default, in these categories:"
            ],
            "metadata": {
                "azdata_cell_guid": "0093db38-5d14-4043-a1b1-6f261eb3c507"
            },
            "attachments": {}
        },
        {
            "cell_type": "markdown",
            "source": [
                "|  |  |\n",
                "| --- | --- |\n",
                "| Text Type: | `str` |\n",
                "| Numeric Types: | `int`, `float`, `complex` |\n",
                "| Sequence Types: | `list`, `tuple`, `range` |\n",
                "| Mapping Type: | `dict` |\n",
                "| Set Types: | `set`, `frozenset` |\n",
                "| Boolean Type: | `bool` |\n",
                "| Binary Types: | `bytes`, `bytearray`, `memoryview` |"
            ],
            "metadata": {
                "azdata_cell_guid": "46aeef4b-5eb1-45a8-94a6-2e9179589065"
            },
            "attachments": {}
        },
        {
            "cell_type": "markdown",
            "source": [
                "## Getting the Data Type\n",
                "\n",
                "You can get the data type of any object by using the `type()` function:\n",
                "\n",
                "### Example\n",
                "\n",
                "Print the data type of the variable x:"
            ],
            "metadata": {
                "azdata_cell_guid": "a58cc1d3-7757-4abd-a178-a27135a85a62"
            },
            "attachments": {}
        },
        {
            "cell_type": "code",
            "source": [
                "x = 5\r\n",
                "print(type(x))"
            ],
            "metadata": {
                "azdata_cell_guid": "9df01cb4-aee8-416f-9acd-56edde12b02f"
            },
            "outputs": [
                {
                    "name": "stdout",
                    "text": "<class 'int'>\n",
                    "output_type": "stream"
                }
            ],
            "execution_count": 33
        },
        {
            "cell_type": "markdown",
            "source": [
                "| Example | Data Type | Try it |\n",
                "| --- | --- | --- |\n",
                "| x = str(\"Hello World\") | str |  |\n",
                "\n",
                "|  |  |  |\n",
                "| --- | --- | --- |\n",
                "| x = int(20) | int |  |\n",
                "| x = float(20.5) | float |  |\n",
                "| x = complex(1j) | complex |  |\n",
                "| x = list((\"apple\", \"banana\", \"cherry\")) | list |  |\n",
                "| x = tuple((\"apple\", \"banana\", \"cherry\")) | tuple |  |\n",
                "| x = range(6) | range |  |\n",
                "| x = dict(name=\"John\", age=36) | dict |  |\n",
                "| x = set((\"apple\", \"banana\", \"cherry\")) | set |  |\n",
                "| x = frozenset((\"apple\", \"banana\", \"cherry\")) | frozenset |  |\n",
                "| x = bool(5) | bool |  |\n",
                "| x = bytes(5) | bytes |  |\n",
                "| x = bytearray(5) | bytearray |  |\n",
                "| x = memoryview(bytes(5)) | memoryview |"
            ],
            "metadata": {
                "azdata_cell_guid": "a28d1f86-88e3-47ee-a897-e0ea54ecbbdc"
            },
            "attachments": {}
        },
        {
            "cell_type": "markdown",
            "source": [
                "| Example | Data Type | Try it |\n",
                "| --- | --- | --- |\n",
                "| x = \"Hello World\" | str |  |\n",
                "\n",
                "|  |  |  |\n",
                "| --- | --- | --- |\n",
                "| x = 20 | int |  |\n",
                "| x = 20.5 | float |  |\n",
                "| x = 1j | complex |  |\n",
                "| x = \\[\"apple\", \"banana\", \"cherry\"\\] | list |  |\n",
                "| x = (\"apple\", \"banana\", \"cherry\") | tuple |  |\n",
                "| x = range(6) | range |  |\n",
                "| x = {\"name\" : \"John\", \"age\" : 36} | dict |  |\n",
                "| x = {\"apple\", \"banana\", \"cherry\"} | set |  |\n",
                "| x = frozenset({\"apple\", \"banana\", \"cherry\"}) | frozenset |  |\n",
                "| x = True | bool |  |\n",
                "| x = b\"Hello\" | bytes |  |\n",
                "| x = bytearray(5) | bytearray |  |\n",
                "| x = memoryview(bytes(5)) | memoryview |"
            ],
            "metadata": {
                "azdata_cell_guid": "b4097e9c-2183-4296-93df-12cd7ec5595b"
            },
            "attachments": {}
        },
        {
            "cell_type": "markdown",
            "source": [
                "There are three numeric types in Python:\n",
                "\n",
                "- `int`\n",
                "- `float`\n",
                "- `complex`\n",
                "\n",
                "Variables of numeric types are created when you assign a value to them:"
            ],
            "metadata": {
                "azdata_cell_guid": "b6123687-460d-4e3d-9a41-0c6db4c9d9da"
            },
            "attachments": {}
        },
        {
            "cell_type": "code",
            "source": [
                "x = 1    # int\r\n",
                "y = 2.8  # float\r\n",
                "z = 1j   # complex"
            ],
            "metadata": {
                "azdata_cell_guid": "df0687f5-9565-43ae-8b45-c03c9b000272"
            },
            "outputs": [],
            "execution_count": null
        },
        {
            "cell_type": "markdown",
            "source": [
                "To verify the type of any object in Python, use the `type()` function"
            ],
            "metadata": {
                "azdata_cell_guid": "b7b6afba-1df3-46fc-8b74-59f090fa4120"
            },
            "attachments": {}
        },
        {
            "cell_type": "code",
            "source": [
                "print(type(x))\r\n",
                "print(type(y))\r\n",
                "print(type(z))"
            ],
            "metadata": {
                "azdata_cell_guid": "020902b9-0957-4b1b-8863-ffe284a7d931"
            },
            "outputs": [
                {
                    "name": "stdout",
                    "text": "<class 'int'>\n<class 'str'>\n<class 'str'>\n",
                    "output_type": "stream"
                }
            ],
            "execution_count": 34
        },
        {
            "cell_type": "markdown",
            "source": [
                "## Int\n",
                "\n",
                "Int, or integer, is a whole number, positive or negative, without decimals, of unlimited length."
            ],
            "metadata": {
                "azdata_cell_guid": "5d3e36f5-c61d-4454-b511-bfb88a59d60e"
            },
            "attachments": {}
        },
        {
            "cell_type": "code",
            "source": [
                "x = 1\r\n",
                "y = 35656222554887711\r\n",
                "z = -3255522\r\n",
                "\r\n",
                "print(type(x))\r\n",
                "print(type(y))\r\n",
                "print(type(z)) "
            ],
            "metadata": {
                "azdata_cell_guid": "baff4ec4-f6b8-4ad3-b060-e7969639562c"
            },
            "outputs": [
                {
                    "name": "stdout",
                    "text": "<class 'int'>\n<class 'int'>\n<class 'int'>\n",
                    "output_type": "stream"
                }
            ],
            "execution_count": 35
        },
        {
            "cell_type": "markdown",
            "source": [
                "## Float\n",
                "\n",
                "Float, or \"floating point number\" is a number, positive or negative, containing one or more decimals"
            ],
            "metadata": {
                "azdata_cell_guid": "81aa8d2a-c640-4fe7-aa1f-ce878e87f659"
            },
            "attachments": {}
        },
        {
            "cell_type": "code",
            "source": [
                "x = 1.10\r\n",
                "y = 1.0\r\n",
                "z = -35.59\r\n",
                "\r\n",
                "print(type(x))\r\n",
                "print(type(y))\r\n",
                "print(type(z)) "
            ],
            "metadata": {
                "azdata_cell_guid": "d0d5b506-fa26-4a1e-a67b-17304f8e8c90"
            },
            "outputs": [
                {
                    "name": "stdout",
                    "text": "<class 'float'>\n<class 'float'>\n<class 'float'>\n",
                    "output_type": "stream"
                }
            ],
            "execution_count": 36
        },
        {
            "cell_type": "markdown",
            "source": [
                "Float can also be scientific numbers with an \"e\" to indicate the power of 10."
            ],
            "metadata": {
                "azdata_cell_guid": "aa9e4ed7-402e-4198-bf41-33e8ec96db38"
            },
            "attachments": {}
        },
        {
            "cell_type": "code",
            "source": [
                "x = 35e3\r\n",
                "y = 12E4\r\n",
                "z = -87.7e100\r\n",
                "\r\n",
                "print(type(x))\r\n",
                "print(type(y))\r\n",
                "print(type(z)) "
            ],
            "metadata": {
                "azdata_cell_guid": "6795ea29-56b0-4270-8c99-31a5e76463b8"
            },
            "outputs": [
                {
                    "name": "stdout",
                    "text": "<class 'float'>\n<class 'float'>\n<class 'float'>\n",
                    "output_type": "stream"
                }
            ],
            "execution_count": 37
        },
        {
            "cell_type": "markdown",
            "source": [
                "## Complex\n",
                "\n",
                "Complex numbers are written with a \"j\" as the imaginary part:"
            ],
            "metadata": {
                "azdata_cell_guid": "8f815df0-6cc3-4b9c-81d7-5089dab16137"
            },
            "attachments": {}
        },
        {
            "cell_type": "code",
            "source": [
                "x = 3+5j\r\n",
                "y = 5j\r\n",
                "z = -5j\r\n",
                "\r\n",
                "print(type(x))\r\n",
                "print(type(y))\r\n",
                "print(type(z)) "
            ],
            "metadata": {
                "azdata_cell_guid": "f1e035bf-c7ce-4503-8152-38432d0ce6d9"
            },
            "outputs": [
                {
                    "name": "stdout",
                    "text": "<class 'complex'>\n<class 'complex'>\n<class 'complex'>\n",
                    "output_type": "stream"
                }
            ],
            "execution_count": 38
        },
        {
            "cell_type": "markdown",
            "source": [
                "## Type Conversion\n",
                "\n",
                "You can convert from one type to another with the `int()`, `float()`, and `complex()` methods:\n",
                "\n",
                "### Example\n",
                "\n",
                "Convert from one type to another:"
            ],
            "metadata": {
                "azdata_cell_guid": "33f8cab3-8e3e-47d9-af7a-0cf5063e553b"
            },
            "attachments": {}
        },
        {
            "cell_type": "code",
            "source": [
                "x = 1    # int\r\n",
                "y = 2.8  # float\r\n",
                "z = 1j   # complex\r\n",
                "\r\n",
                "#convert from int to float:\r\n",
                "a = float(x)\r\n",
                "\r\n",
                "#convert from float to int:\r\n",
                "b = int(y)\r\n",
                "\r\n",
                "#convert from int to complex:\r\n",
                "c = complex(x)\r\n",
                "\r\n",
                "print(a)\r\n",
                "print(b)\r\n",
                "print(c)\r\n",
                "\r\n",
                "print(type(a))\r\n",
                "print(type(b))\r\n",
                "print(type(c)) "
            ],
            "metadata": {
                "azdata_cell_guid": "5f47eb41-7e1d-4525-8c05-b6f9a84d7486"
            },
            "outputs": [
                {
                    "name": "stdout",
                    "text": "1.0\n2\n(1+0j)\n<class 'float'>\n<class 'int'>\n<class 'complex'>\n",
                    "output_type": "stream"
                }
            ],
            "execution_count": 39
        },
        {
            "cell_type": "markdown",
            "source": [
                "**Note:** You cannot convert complex numbers into another number type.\n",
                "\n",
                "* * *\n",
                "\n",
                "## Random Number\n",
                "\n",
                "Python does not have a `random()` function to make a random number, but Python has a built-in module called `random` that can be used to make random numbers:\n",
                "\n",
                "  \n",
                "\n",
                "### Example\n",
                "\n",
                "Import the random module, and display a random number between 1 and 9:"
            ],
            "metadata": {
                "azdata_cell_guid": "1dd8fb9a-f89a-453e-9e0f-046a01a5440e"
            },
            "attachments": {}
        },
        {
            "cell_type": "code",
            "source": [
                "import random\r\n",
                "\r\n",
                "print(random.randrange(1, 10)) "
            ],
            "metadata": {
                "azdata_cell_guid": "b779d652-d33f-4988-b5bf-4c8fe49095c2"
            },
            "outputs": [
                {
                    "name": "stdout",
                    "text": "7\n",
                    "output_type": "stream"
                }
            ],
            "execution_count": 42
        },
        {
            "cell_type": "markdown",
            "source": [
                "## Specify a Variable Type\n",
                "\n",
                "There may be times when you want to specify a type on to a variable. This can be done with casting. Python is an object-orientated language, and as such it uses classes to define data types, including its primitive types.\n",
                "\n",
                "Casting in python is therefore done using constructor functions:\n",
                "\n",
                "- int() - constructs an integer number from an integer literal, a float literal (by removing all decimals), or a string literal (providing the string represents a whole number)\n",
                "- float() - constructs a float number from an integer literal, a float literal or a string literal (providing the string represents a float or an integer)\n",
                "- str() - constructs a string from a wide variety of data types, including strings, integer literals and float literals\n",
                "\n",
                "### Example\n",
                "\n",
                "Integers:"
            ],
            "metadata": {
                "azdata_cell_guid": "d301d42b-fd2e-4fd5-80d2-f267eb110aaa"
            },
            "attachments": {}
        },
        {
            "cell_type": "code",
            "source": [
                "x = int(1)   # x will be 1\r\n",
                "y = int(2.8) # y will be 2\r\n",
                "z = int(\"3\") # z will be 3"
            ],
            "metadata": {
                "azdata_cell_guid": "63cd4692-9ccc-4aee-b7cc-69166677c4c3"
            },
            "outputs": [],
            "execution_count": null
        },
        {
            "cell_type": "markdown",
            "source": [
                "Floats:"
            ],
            "metadata": {
                "azdata_cell_guid": "eb8f0f68-59d1-4cd3-9b75-e9ec3663dcc9"
            },
            "attachments": {}
        },
        {
            "cell_type": "code",
            "source": [
                "x = float(1)     # x will be 1.0\r\n",
                "y = float(2.8)   # y will be 2.8\r\n",
                "z = float(\"3\")   # z will be 3.0\r\n",
                "w = float(\"4.2\") # w will be 4.2"
            ],
            "metadata": {
                "azdata_cell_guid": "56efccad-7f94-48ee-a9cf-22ab88b9541f"
            },
            "outputs": [],
            "execution_count": 44
        },
        {
            "cell_type": "markdown",
            "source": [
                "Strings:"
            ],
            "metadata": {
                "azdata_cell_guid": "c2b87e3f-143e-4c5f-a3f3-70638bc2ac0c"
            },
            "attachments": {}
        },
        {
            "cell_type": "code",
            "source": [
                "x = str(\"s1\") # x will be 's1'\r\n",
                "y = str(2)    # y will be '2'\r\n",
                "z = str(3.0)  # z will be '3.0' "
            ],
            "metadata": {
                "azdata_cell_guid": "ff011497-2881-44a8-aad4-9ef034fe49c9"
            },
            "outputs": [],
            "execution_count": null
        },
        {
            "cell_type": "markdown",
            "source": [
                "## Strings\n",
                "\n",
                "Strings in python are surrounded by either single quotation marks, or double quotation marks.\n",
                "\n",
                "'hello' is the same as \"hello\".\n",
                "\n",
                "You can display a string literal with the `print()` function:"
            ],
            "metadata": {
                "azdata_cell_guid": "0373e9a4-76db-4f9d-93ef-bcbc5aa8e005"
            },
            "attachments": {}
        },
        {
            "cell_type": "code",
            "source": [
                "print(\"Hello\")\r\n",
                "print('Hello')"
            ],
            "metadata": {
                "azdata_cell_guid": "d415a4d3-75a5-4cca-9742-0198fc87d7c3"
            },
            "outputs": [],
            "execution_count": null
        },
        {
            "cell_type": "markdown",
            "source": [
                "## Assign String to a Variable\n",
                "\n",
                "Assigning a string to a variable is done with the variable name followed by an equal sign and the string:"
            ],
            "metadata": {
                "azdata_cell_guid": "29fba5d2-f15c-4449-8492-91e6333eceea"
            },
            "attachments": {}
        },
        {
            "cell_type": "code",
            "source": [
                "a = \"Hello\"\r\n",
                "print(a) "
            ],
            "metadata": {
                "azdata_cell_guid": "1b053651-0b48-47b0-b9a0-0ec38cbc599a"
            },
            "outputs": [
                {
                    "name": "stdout",
                    "text": "Hello\n",
                    "output_type": "stream"
                }
            ],
            "execution_count": 45
        },
        {
            "cell_type": "markdown",
            "source": [
                "## Multiline Strings\n",
                "\n",
                "You can assign a multiline string to a variable by using three quotes:"
            ],
            "metadata": {
                "azdata_cell_guid": "39f5b49f-efef-42f3-808c-ddb60df8739c"
            },
            "attachments": {}
        },
        {
            "cell_type": "code",
            "source": [
                "#You can use three double quotes:\r\n",
                "a = \"\"\"Lorem ipsum dolor sit amet,\r\n",
                "consectetur adipiscing elit,\r\n",
                "sed do eiusmod tempor incididunt\r\n",
                "ut labore et dolore magna aliqua.\"\"\"\r\n",
                "print(a) "
            ],
            "metadata": {
                "azdata_cell_guid": "433447f9-55b1-4d88-8305-9732791eb5d6"
            },
            "outputs": [
                {
                    "name": "stdout",
                    "text": "Lorem ipsum dolor sit amet,\nconsectetur adipiscing elit,\nsed do eiusmod tempor incididunt\nut labore et dolore magna aliqua.\n",
                    "output_type": "stream"
                }
            ],
            "execution_count": 46
        },
        {
            "cell_type": "markdown",
            "source": [
                "Or three single quotes:"
            ],
            "metadata": {
                "azdata_cell_guid": "f9cf6f9e-f810-49db-a8a9-b981bdaa1a3b"
            },
            "attachments": {}
        },
        {
            "cell_type": "code",
            "source": [
                "a = '''Lorem ipsum dolor sit amet,\r\n",
                "consectetur adipiscing elit,\r\n",
                "sed do eiusmod tempor incididunt\r\n",
                "ut labore et dolore magna aliqua.'''\r\n",
                "print(a) "
            ],
            "metadata": {
                "azdata_cell_guid": "f1a65cd2-db98-4271-af24-bef9e5b8925f"
            },
            "outputs": [
                {
                    "name": "stdout",
                    "text": "Lorem ipsum dolor sit amet,\nconsectetur adipiscing elit,\nsed do eiusmod tempor incididunt\nut labore et dolore magna aliqua.\n",
                    "output_type": "stream"
                }
            ],
            "execution_count": 47
        },
        {
            "cell_type": "markdown",
            "source": [
                "**Note:** in the result, the line breaks are inserted at the same position as in the code.\n",
                "\n",
                "* * *\n",
                "\n",
                "* * *\n",
                "\n",
                "## Strings are Arrays\n",
                "\n",
                "Like many other popular programming languages, strings in Python are arrays of bytes representing unicode characters.\n",
                "\n",
                "However, Python does not have a character data type, a single character is simply a string with a length of 1.\n",
                "\n",
                "Square brackets can be used to access elements of the string.\n",
                "\n",
                "Get the character at position 1 (remember that the first character has the position 0):"
            ],
            "metadata": {
                "azdata_cell_guid": "31f28de0-3be5-48d8-9388-2f318534c141"
            },
            "attachments": {}
        },
        {
            "cell_type": "code",
            "source": [
                "a = \"Hello, World!\"\r\n",
                "print(a[1])"
            ],
            "metadata": {
                "azdata_cell_guid": "908cf8c2-4c34-4bc1-bd30-c72e7dda35b1"
            },
            "outputs": [
                {
                    "name": "stdout",
                    "text": "e\n",
                    "output_type": "stream"
                }
            ],
            "execution_count": 48
        },
        {
            "cell_type": "markdown",
            "source": [
                "## Looping Through a String\n",
                "\n",
                "Since strings are arrays, we can loop through the characters in a string, with a `for` loop."
            ],
            "metadata": {
                "azdata_cell_guid": "b06841a1-7622-485d-b5d4-3dfcf254eb21"
            },
            "attachments": {}
        },
        {
            "cell_type": "code",
            "source": [
                "#Loop through the letters in the word \"banana\":\r\n",
                "for x in \"banana\":\r\n",
                "  print(x)"
            ],
            "metadata": {
                "azdata_cell_guid": "cdcacdde-cc18-43ba-8e83-56b4d858700a"
            },
            "outputs": [
                {
                    "name": "stdout",
                    "text": "b\na\nn\na\nn\na\n",
                    "output_type": "stream"
                }
            ],
            "execution_count": 49
        },
        {
            "cell_type": "markdown",
            "source": [
                "## String Length\n",
                "\n",
                "To get the length of a string, use the `len()` function.\n",
                "\n",
                "### Example\n",
                "\n",
                "The `len()` function returns the length of a string:"
            ],
            "metadata": {
                "azdata_cell_guid": "e7531230-1216-40d1-92cb-e1ce1f987ec1"
            },
            "attachments": {}
        },
        {
            "cell_type": "code",
            "source": [
                "a = \"Hello, World!\"\r\n",
                "print(len(a))"
            ],
            "metadata": {
                "azdata_cell_guid": "d38147a4-a9ab-4dc9-8c42-22a4bb741147"
            },
            "outputs": [
                {
                    "name": "stdout",
                    "text": "13\n",
                    "output_type": "stream"
                }
            ],
            "execution_count": 50
        },
        {
            "cell_type": "markdown",
            "source": [
                "## Check String\n",
                "\n",
                "To check if a certain phrase or character is present in a string, we can use the keyword `in`.\n",
                "\n",
                "### Example\n",
                "\n",
                "Check if \"free\" is present in the following text:"
            ],
            "metadata": {
                "azdata_cell_guid": "5ccd6687-de97-431a-abfa-035d79f148ac"
            },
            "attachments": {}
        },
        {
            "cell_type": "code",
            "source": [
                "txt = \"The best things in life are free!\"\r\n",
                "print(\"free\" in txt)"
            ],
            "metadata": {
                "azdata_cell_guid": "7c21b484-0641-43f7-86c0-c94f9c8466d8"
            },
            "outputs": [
                {
                    "name": "stdout",
                    "text": "True\n",
                    "output_type": "stream"
                }
            ],
            "execution_count": 51
        },
        {
            "cell_type": "markdown",
            "source": [
                "Use it in an `if` statement:\n",
                "\n",
                "### Example\n",
                "\n",
                "Print only if \"free\" is present:"
            ],
            "metadata": {
                "azdata_cell_guid": "15b19516-f9ee-449b-a91e-8dbce3964ba9"
            },
            "attachments": {}
        },
        {
            "cell_type": "code",
            "source": [
                "txt = \"The best things in life are free!\"\r\n",
                "if \"free\" in txt:\r\n",
                "  print(\"Yes, 'free' is present.\")"
            ],
            "metadata": {
                "azdata_cell_guid": "0ded29ac-6c6d-4d12-a532-5db88cbfe4c5"
            },
            "outputs": [
                {
                    "name": "stdout",
                    "text": "Yes, 'free' is present.\n",
                    "output_type": "stream"
                }
            ],
            "execution_count": 52
        },
        {
            "cell_type": "markdown",
            "source": [
                "## Check if NOT\n",
                "\n",
                "To check if a certain phrase or character is NOT present in a string, we can use the keyword `not in`."
            ],
            "metadata": {
                "azdata_cell_guid": "92900d10-7d3d-4263-9501-91395e9863a4"
            },
            "attachments": {}
        },
        {
            "cell_type": "code",
            "source": [
                "#Check if \"expensive\" is NOT present in the following text:\r\n",
                "txt = \"The best things in life are free!\"\r\n",
                "print(\"expensive\" not in txt)"
            ],
            "metadata": {
                "azdata_cell_guid": "0c4cb14c-a613-4b3c-bca0-8619808455c4"
            },
            "outputs": [
                {
                    "name": "stdout",
                    "text": "True\n",
                    "output_type": "stream"
                }
            ],
            "execution_count": 53
        },
        {
            "cell_type": "markdown",
            "source": [
                "Use it in an `if` statement:\n",
                "\n",
                "### Example\n",
                "\n",
                "print only if \"expensive\" is NOT present:"
            ],
            "metadata": {
                "azdata_cell_guid": "728673ea-f19a-4782-b175-94ebe83e041d"
            },
            "attachments": {}
        },
        {
            "cell_type": "code",
            "source": [
                "txt = \"The best things in life are free!\"\r\n",
                "if \"expensive\" not in txt:\r\n",
                "  print(\"No, 'expensive' is NOT present.\")"
            ],
            "metadata": {
                "azdata_cell_guid": "387328f4-3932-4bb2-9315-df54bb7bdad2"
            },
            "outputs": [
                {
                    "name": "stdout",
                    "text": "No, 'expensive' is NOT present.\n",
                    "output_type": "stream"
                }
            ],
            "execution_count": 54
        },
        {
            "cell_type": "markdown",
            "source": [
                "## Slicing\n",
                "\n",
                "You can return a range of characters by using the slice syntax.\n",
                "\n",
                "Specify the start index and the end index, separated by a colon, to return a part of the string.\n",
                "\n",
                "### Example\n",
                "\n",
                "Get the characters from position 2 to position 5 (not included):"
            ],
            "metadata": {
                "azdata_cell_guid": "40faaa19-9fbb-436b-ba60-0016022d0ef3"
            },
            "attachments": {}
        },
        {
            "cell_type": "code",
            "source": [
                "b = \"Hello, World!\"\r\n",
                "print(b[2:5])"
            ],
            "metadata": {
                "azdata_cell_guid": "7712d440-ea66-496b-9c3e-bdfefd575775"
            },
            "outputs": [
                {
                    "name": "stdout",
                    "text": "llo\n",
                    "output_type": "stream"
                }
            ],
            "execution_count": 55
        },
        {
            "cell_type": "markdown",
            "source": [
                "**Note:** The first character has index 0.\n",
                "\n",
                "* * *\n",
                "\n",
                "## Slice From the Start\n",
                "\n",
                "By leaving out the start index, the range will start at the first character:\n",
                "\n",
                "### Example\n",
                "\n",
                "Get the characters from the start to position 5 (not included):"
            ],
            "metadata": {
                "azdata_cell_guid": "0f4aadcc-8056-4d99-b5b6-6b4d3c061ee5"
            },
            "attachments": {}
        },
        {
            "cell_type": "code",
            "source": [
                "b = \"Hello, World!\"\r\n",
                "print(b[:5])"
            ],
            "metadata": {
                "azdata_cell_guid": "9b70c03b-437a-4aaa-9655-201ba4f563f0"
            },
            "outputs": [
                {
                    "name": "stdout",
                    "text": "Hello\n",
                    "output_type": "stream"
                }
            ],
            "execution_count": 56
        },
        {
            "cell_type": "markdown",
            "source": [
                "## Slice To the End\n",
                "\n",
                "By leaving out the _end_ index, the range will go to the end:\n",
                "\n",
                "### Example\n",
                "\n",
                "Get the characters from position 2, and all the way to the end:"
            ],
            "metadata": {
                "azdata_cell_guid": "4481e906-4dd8-48d2-8a7c-d84089978b9a"
            },
            "attachments": {}
        },
        {
            "cell_type": "code",
            "source": [
                "b = \"Hello, World!\"\r\n",
                "print(b[2:])"
            ],
            "metadata": {
                "azdata_cell_guid": "8e3bd33d-5ad7-4e12-8cd3-a2ee74dd43df"
            },
            "outputs": [
                {
                    "name": "stdout",
                    "text": "llo, World!\n",
                    "output_type": "stream"
                }
            ],
            "execution_count": 57
        },
        {
            "cell_type": "markdown",
            "source": [
                "## Negative Indexing\n",
                "\n",
                "Use negative indexes to start the slice from the end of the string:\n",
                "\n",
                "### Example\n",
                "\n",
                "Get the characters:\n",
                "\n",
                "From: \"o\" in \"World!\" (position -5)\n",
                "\n",
                "To, but not included: \"d\" in \"World!\" (position -2):"
            ],
            "metadata": {
                "azdata_cell_guid": "c104fedf-31a4-4d15-a4d4-409a0d360c77"
            },
            "attachments": {}
        },
        {
            "cell_type": "code",
            "source": [
                "b = \"Hello, World!\"\r\n",
                "print(b[-5:-2])"
            ],
            "metadata": {
                "azdata_cell_guid": "b3f7cd79-237b-4677-aa17-487a9ade9e06"
            },
            "outputs": [
                {
                    "name": "stdout",
                    "text": "orl\n",
                    "output_type": "stream"
                }
            ],
            "execution_count": 58
        },
        {
            "cell_type": "markdown",
            "source": [
                "Python has a set of built-in methods that you can use on strings.\n",
                "\n",
                "* * *\n",
                "\n",
                "## Upper Case\n",
                "\n",
                "### Example\n",
                "\n",
                "The `upper()` method returns the string in upper case:"
            ],
            "metadata": {
                "azdata_cell_guid": "51a43033-3617-420b-9560-a0ebcd1b424f"
            },
            "attachments": {}
        },
        {
            "cell_type": "code",
            "source": [
                "a = \"Hello, World!\"\r\n",
                "print(a.upper())"
            ],
            "metadata": {
                "azdata_cell_guid": "dda6bf25-e8fe-447e-a244-b1824ae6247b"
            },
            "outputs": [
                {
                    "name": "stdout",
                    "text": "HELLO, WORLD!\n",
                    "output_type": "stream"
                }
            ],
            "execution_count": 59
        },
        {
            "cell_type": "markdown",
            "source": [
                "## Lower Case\n",
                "\n",
                "### Example\n",
                "\n",
                "The `lower()` method returns the string in lower case:"
            ],
            "metadata": {
                "azdata_cell_guid": "5f344c48-a91e-4845-bbbd-19a69dddd46b"
            },
            "attachments": {}
        },
        {
            "cell_type": "code",
            "source": [
                "a = \"Hello, World!\"\r\n",
                "print(a.lower())"
            ],
            "metadata": {
                "azdata_cell_guid": "8be5e4f0-dda4-4d27-8b4d-301710437494"
            },
            "outputs": [
                {
                    "name": "stdout",
                    "text": "hello, world!\n",
                    "output_type": "stream"
                }
            ],
            "execution_count": 60
        },
        {
            "cell_type": "markdown",
            "source": [
                "## Remove Whitespace\n",
                "\n",
                "Whitespace is the space before and/or after the actual text, and very often you want to remove this space.\n",
                "\n",
                "### Example\n",
                "\n",
                "The `strip()` method removes any whitespace from the beginning or the end:"
            ],
            "metadata": {
                "azdata_cell_guid": "526025d4-0c12-4c0d-bcc3-e0d9fa56080e"
            },
            "attachments": {}
        },
        {
            "cell_type": "code",
            "source": [
                "a = \" Hello, World! \"\r\n",
                "print(a.strip()) # returns \"Hello, World!\" "
            ],
            "metadata": {
                "azdata_cell_guid": "669d1e42-4028-47bf-98fc-6468a2567bc9"
            },
            "outputs": [
                {
                    "name": "stdout",
                    "text": "Hello, World!\n",
                    "output_type": "stream"
                }
            ],
            "execution_count": 61
        },
        {
            "cell_type": "markdown",
            "source": [
                "## Replace String\n",
                "\n",
                "### Example\n",
                "\n",
                "The `replace()` method replaces a string with another string:"
            ],
            "metadata": {
                "azdata_cell_guid": "4cdbea15-831b-4784-810d-1e969a79ccec"
            },
            "attachments": {}
        },
        {
            "cell_type": "code",
            "source": [
                "a = \"Hello, World!\"\r\n",
                "print(a.replace(\"H\", \"J\"))"
            ],
            "metadata": {
                "azdata_cell_guid": "de1434d9-80f9-4011-8a20-1fd665121ef9"
            },
            "outputs": [
                {
                    "name": "stdout",
                    "text": "Jello, World!\n",
                    "output_type": "stream"
                }
            ],
            "execution_count": 62
        },
        {
            "cell_type": "markdown",
            "source": [
                "## Split String\n",
                "\n",
                "The `split()` method returns a list where the text between the specified separator becomes the list items.\n",
                "\n",
                "### Example\n",
                "\n",
                "The `split()` method splits the string into substrings if it finds instances of the separator:"
            ],
            "metadata": {
                "azdata_cell_guid": "b664464c-a3b7-4e0b-aa48-ee5b6a11fe3f"
            },
            "attachments": {}
        },
        {
            "cell_type": "code",
            "source": [
                "a = \"Hello, World!\"\r\n",
                "print(a.split(\",\")) # returns ['Hello', ' World!'] "
            ],
            "metadata": {
                "azdata_cell_guid": "dd21c318-c290-4f7f-a52d-bf3925252262"
            },
            "outputs": [
                {
                    "name": "stdout",
                    "text": "['Hello', ' World!']\n",
                    "output_type": "stream"
                }
            ],
            "execution_count": 63
        },
        {
            "cell_type": "markdown",
            "source": [
                "## String Concatenation\n",
                "\n",
                "To concatenate, or combine, two strings you can use the + operator.\n",
                "\n",
                "### Example\n",
                "\n",
                "Merge variable `a` with variable `b` into variable `c`:"
            ],
            "metadata": {
                "azdata_cell_guid": "e8d69931-f1d3-4243-a4f5-cb5fa2cbc0bc"
            },
            "attachments": {}
        },
        {
            "cell_type": "code",
            "source": [
                "a = \"Hello\"\r\n",
                "b = \"World\"\r\n",
                "c = a + b\r\n",
                "print(c)"
            ],
            "metadata": {
                "azdata_cell_guid": "58715d80-deb2-4cbf-8d3c-bda8030191cd",
                "tags": []
            },
            "outputs": [
                {
                    "name": "stdout",
                    "text": "HelloWorld\n",
                    "output_type": "stream"
                }
            ],
            "execution_count": 64
        },
        {
            "cell_type": "code",
            "source": [
                "#To add a space between them, add a \" \":\r\n",
                "\r\n",
                "a = \"Hello\"\r\n",
                "b = \"World\"\r\n",
                "c = a + \" \" + b\r\n",
                "print(c)"
            ],
            "metadata": {
                "azdata_cell_guid": "3ce2b4bf-40cb-4aa7-bf8d-26dc232283b5"
            },
            "outputs": [
                {
                    "name": "stdout",
                    "text": "Hello World\n",
                    "output_type": "stream"
                }
            ],
            "execution_count": 65
        },
        {
            "cell_type": "markdown",
            "source": [
                "But we can combine strings and numbers by using the `format()` method!\n",
                "\n",
                "The `format()` method takes the passed arguments, formats them, and places them in the string where the placeholders `{}` are:\n",
                "\n",
                "### Example\n",
                "\n",
                "Use the `format()` method to insert numbers into strings:"
            ],
            "metadata": {
                "azdata_cell_guid": "ebcca918-46b8-409e-a94e-a86f778c576b"
            },
            "attachments": {}
        },
        {
            "cell_type": "code",
            "source": [
                "age = 36\r\n",
                "txt = \"My name is John, and I am {}\"\r\n",
                "print(txt.format(age))"
            ],
            "metadata": {
                "azdata_cell_guid": "d5b3fd9d-0b9f-4ac4-a341-7a09966384fa"
            },
            "outputs": [
                {
                    "name": "stdout",
                    "text": "My name is John, and I am 36\n",
                    "output_type": "stream"
                }
            ],
            "execution_count": 66
        },
        {
            "cell_type": "markdown",
            "source": [
                "The format() method takes unlimited number of arguments, and are placed into the respective placeholders:\n",
                "\n",
                "### Example"
            ],
            "metadata": {
                "azdata_cell_guid": "cf9bbdeb-4b7c-4579-bd6f-930e828c4b20"
            },
            "attachments": {}
        },
        {
            "cell_type": "code",
            "source": [
                "quantity = 3\r\n",
                "itemno = 567\r\n",
                "price = 49.95\r\n",
                "myorder = \"I want {} pieces of item {} for {} dollars.\"\r\n",
                "print(myorder.format(quantity, itemno, price))"
            ],
            "metadata": {
                "azdata_cell_guid": "46ca0915-4ad2-4025-81fa-5751e1505bda"
            },
            "outputs": [
                {
                    "name": "stdout",
                    "text": "I want 3 pieces of item 567 for 49.95 dollars.\n",
                    "output_type": "stream"
                }
            ],
            "execution_count": 67
        },
        {
            "cell_type": "markdown",
            "source": [
                "You can use index numbers `{0}` to be sure the arguments are placed in the correct placeholders:\n",
                "\n",
                "### Example"
            ],
            "metadata": {
                "azdata_cell_guid": "fa649471-d667-4934-8524-d9b31a8e4fdc"
            },
            "attachments": {}
        },
        {
            "cell_type": "code",
            "source": [
                "quantity = 3\r\n",
                "itemno = 567\r\n",
                "price = 49.95\r\n",
                "myorder = \"I want to pay {2} dollars for {0} pieces of item {1}.\"\r\n",
                "print(myorder.format(quantity, itemno, price))"
            ],
            "metadata": {
                "azdata_cell_guid": "33714a12-37e7-46b2-9353-f2338652bfc4"
            },
            "outputs": [
                {
                    "name": "stdout",
                    "text": "I want to pay 49.95 dollars for 3 pieces of item 567.\n",
                    "output_type": "stream"
                }
            ],
            "execution_count": 68
        },
        {
            "cell_type": "markdown",
            "source": [
                "## Escape Character\n",
                "\n",
                "To insert characters that are illegal in a string, use an escape character.\n",
                "\n",
                "An escape character is a backslash `\\` followed by the character you want to insert.\n",
                "\n",
                "An example of an illegal character is a double quote inside a string that is surrounded by double quotes:\n",
                "\n",
                "### Example\n",
                "\n",
                "You will get an error if you use double quotes inside a string that is surrounded by double quotes:"
            ],
            "metadata": {
                "azdata_cell_guid": "51b28bd2-dca4-4ae4-8fe8-107350b58775"
            },
            "attachments": {}
        },
        {
            "cell_type": "code",
            "source": [
                "txt = \"We are the so-called \"Vikings\" from the north.\""
            ],
            "metadata": {
                "azdata_cell_guid": "cef74305-5d1f-4b65-b6de-e7ca69e89ec3"
            },
            "outputs": [
                {
                    "traceback": [
                        "\u001b[1;36m  Input \u001b[1;32mIn [69]\u001b[1;36m\u001b[0m\n\u001b[1;33m    txt = \"We are the so-called \"Vikings\" from the north.\"\u001b[0m\n\u001b[1;37m                                 ^\u001b[0m\n\u001b[1;31mSyntaxError\u001b[0m\u001b[1;31m:\u001b[0m invalid syntax\n"
                    ],
                    "ename": "SyntaxError",
                    "evalue": "invalid syntax (7934146.py, line 1)",
                    "output_type": "error"
                }
            ],
            "execution_count": 69
        },
        {
            "cell_type": "markdown",
            "source": [
                "To fix this problem, use the escape character `\\\"`:\n",
                "\n",
                "### Example\n",
                "\n",
                "The escape character allows you to use double quotes when you normally would not be allowed:"
            ],
            "metadata": {
                "azdata_cell_guid": "ccdb62fb-0338-4a56-b55b-1b3017b0841a"
            },
            "attachments": {}
        },
        {
            "cell_type": "code",
            "source": [
                "txt = \"We are the so-called \\\"Vikings\\\" from the north.\""
            ],
            "metadata": {
                "azdata_cell_guid": "9dfc928d-a2ca-43f3-be81-911208154629"
            },
            "outputs": [],
            "execution_count": 70
        },
        {
            "cell_type": "markdown",
            "source": [
                "## Escape Characters\n",
                "\n",
                "Other escape characters used in Python:\n",
                "\n",
                "| Code | Result | Try it |\n",
                "| --- | --- | --- |\n",
                "| \\\\' | Single Quote |  |\n",
                "\n",
                "|  |  |  |\n",
                "| --- | --- | --- |\n",
                "| \\\\\\\\ | Backslash |  |\n",
                "| \\\\n | New Line |  |\n",
                "| \\\\r | Carriage Return |  |\n",
                "| \\\\t | Tab |  |\n",
                "| \\\\b | Backspace |  |\n",
                "\n",
                "|  |  |  |\n",
                "| --- | --- | --- |\n",
                "| \\\\f | Form Feed |  |\n",
                "| \\\\ooo | Octal value |  |\n",
                "\n",
                "|  |  |\n",
                "| --- | --- |\n",
                "| \\\\xhh | Hex value |"
            ],
            "metadata": {
                "azdata_cell_guid": "db43e52e-a353-442c-b8f5-04436fcbb092"
            },
            "attachments": {}
        },
        {
            "cell_type": "markdown",
            "source": [
                "## String Methods\n",
                "\n",
                "Python has a set of built-in methods that you can use on strings.\n",
                "\n",
                "**Note:** All string methods returns new values. They do not change the original string.\n",
                "\n",
                "| Method | Description |\n",
                "| --- | --- |\n",
                "| [capitalize()](https://www.w3schools.com/python/ref_string_capitalize.asp) | Converts the first character to upper case |\n",
                "| [casefold()](https://www.w3schools.com/python/ref_string_casefold.asp) | Converts string into lower case |\n",
                "| [center()](https://www.w3schools.com/python/ref_string_center.asp) | Returns a centered string |\n",
                "| [count()](https://www.w3schools.com/python/ref_string_count.asp) | Returns the number of times a specified value occurs in a string |\n",
                "| [encode()](https://www.w3schools.com/python/ref_string_encode.asp) | Returns an encoded version of the string |\n",
                "| [endswith()](https://www.w3schools.com/python/ref_string_endswith.asp) | Returns true if the string ends with the specified value |\n",
                "| [expandtabs()](https://www.w3schools.com/python/ref_string_expandtabs.asp) | Sets the tab size of the string |\n",
                "| [find()](https://www.w3schools.com/python/ref_string_find.asp) | Searches the string for a specified value and returns the position of where it was found |\n",
                "| [format()](https://www.w3schools.com/python/ref_string_format.asp) | Formats specified values in a string |\n",
                "| format\\_map() | Formats specified values in a string |\n",
                "| [index()](https://www.w3schools.com/python/ref_string_index.asp) | Searches the string for a specified value and returns the position of where it was found |\n",
                "| [isalnum()](https://www.w3schools.com/python/ref_string_isalnum.asp) | Returns True if all characters in the string are alphanumeric |\n",
                "| [isalpha()](https://www.w3schools.com/python/ref_string_isalpha.asp) | Returns True if all characters in the string are in the alphabet |\n",
                "| [isdecimal()](https://www.w3schools.com/python/ref_string_isdecimal.asp) | Returns True if all characters in the string are decimals |\n",
                "| [isdigit()](https://www.w3schools.com/python/ref_string_isdigit.asp) | Returns True if all characters in the string are digits |\n",
                "| [isidentifier()](https://www.w3schools.com/python/ref_string_isidentifier.asp) | Returns True if the string is an identifier |\n",
                "| [islower()](https://www.w3schools.com/python/ref_string_islower.asp) | Returns True if all characters in the string are lower case |\n",
                "| [isnumeric()](https://www.w3schools.com/python/ref_string_isnumeric.asp) | Returns True if all characters in the string are numeric |\n",
                "| [isprintable()](https://www.w3schools.com/python/ref_string_isprintable.asp) | Returns True if all characters in the string are printable |\n",
                "| [isspace()](https://www.w3schools.com/python/ref_string_isspace.asp) | Returns True if all characters in the string are whitespaces |\n",
                "| [istitle()](https://www.w3schools.com/python/ref_string_istitle.asp) | Returns True if the string follows the rules of a title |\n",
                "| [isupper()](https://www.w3schools.com/python/ref_string_isupper.asp) | Returns True if all characters in the string are upper case |\n",
                "| [join()](https://www.w3schools.com/python/ref_string_join.asp) | Joins the elements of an iterable to the end of the string |\n",
                "| [ljust()](https://www.w3schools.com/python/ref_string_ljust.asp) | Returns a left justified version of the string |\n",
                "| [lower()](https://www.w3schools.com/python/ref_string_lower.asp) | Converts a string into lower case |\n",
                "| [lstrip()](https://www.w3schools.com/python/ref_string_lstrip.asp) | Returns a left trim version of the string |\n",
                "| [maketrans()](https://www.w3schools.com/python/ref_string_maketrans.asp) | Returns a translation table to be used in translations |\n",
                "| [partition()](https://www.w3schools.com/python/ref_string_partition.asp) | Returns a tuple where the string is parted into three parts |\n",
                "| [replace()](https://www.w3schools.com/python/ref_string_replace.asp) | Returns a string where a specified value is replaced with a specified value |\n",
                "| [rfind()](https://www.w3schools.com/python/ref_string_rfind.asp) | Searches the string for a specified value and returns the last position of where it was found |\n",
                "| [rindex()](https://www.w3schools.com/python/ref_string_rindex.asp) | Searches the string for a specified value and returns the last position of where it was found |\n",
                "| [rjust()](https://www.w3schools.com/python/ref_string_rjust.asp) | Returns a right justified version of the string |\n",
                "| [rpartition()](https://www.w3schools.com/python/ref_string_rpartition.asp) | Returns a tuple where the string is parted into three parts |\n",
                "| [rsplit()](https://www.w3schools.com/python/ref_string_rsplit.asp) | Splits the string at the specified separator, and returns a list |\n",
                "| [rstrip()](https://www.w3schools.com/python/ref_string_rstrip.asp) | Returns a right trim version of the string |\n",
                "| [split()](https://www.w3schools.com/python/ref_string_split.asp) | Splits the string at the specified separator, and returns a list |\n",
                "| [splitlines()](https://www.w3schools.com/python/ref_string_splitlines.asp) | Splits the string at line breaks and returns a list |\n",
                "| [startswith()](https://www.w3schools.com/python/ref_string_startswith.asp) | Returns true if the string starts with the specified value |\n",
                "| [strip()](https://www.w3schools.com/python/ref_string_strip.asp) | Returns a trimmed version of the string |\n",
                "| [swapcase()](https://www.w3schools.com/python/ref_string_swapcase.asp) | Swaps cases, lower case becomes upper case and vice versa |\n",
                "| [title()](https://www.w3schools.com/python/ref_string_title.asp) | Converts the first character of each word to upper case |\n",
                "| [translate()](https://www.w3schools.com/python/ref_string_translate.asp) | Returns a translated string |\n",
                "| [upper()](https://www.w3schools.com/python/ref_string_upper.asp) | Converts a string into upper case |\n",
                "| [zfill()](https://www.w3schools.com/python/ref_string_zfill.asp) | Fills the string with a specified number of 0 values at the beginning |"
            ],
            "metadata": {
                "azdata_cell_guid": "97af600b-66de-40b7-bcee-463002d72418"
            },
            "attachments": {}
        },
        {
            "cell_type": "markdown",
            "source": [
                "\\<h1\\>Booleans represent one of two values: `True` or `False`.\\</h1\\>\n",
                "\n",
                "* * *\n",
                "\n",
                "## Boolean Values\n",
                "\n",
                "In programming you often need to know if an expression is `True` or `False`.\n",
                "\n",
                "You can evaluate any expression in Python, and get one of two answers, `True` or `False`.\n",
                "\n",
                "When you compare two values, the expression is evaluated and Python returns the Boolean answer:\n",
                "\n",
                "### Example"
            ],
            "metadata": {
                "azdata_cell_guid": "9b8ca5e4-8c95-4438-be44-1d19453540b8"
            },
            "attachments": {}
        },
        {
            "cell_type": "code",
            "source": [
                "print(10 > 9)\r\n",
                "print(10 == 9)\r\n",
                "print(10 < 9) "
            ],
            "metadata": {
                "azdata_cell_guid": "ec9f11ea-4fcb-472f-aa58-d09e693a389d"
            },
            "outputs": [
                {
                    "name": "stdout",
                    "text": "True\nFalse\nFalse\n",
                    "output_type": "stream"
                }
            ],
            "execution_count": 71
        },
        {
            "cell_type": "markdown",
            "source": [
                "When you run a condition in an if statement, Python returns `True` or `False`:\n",
                "\n",
                "### Example\n",
                "\n",
                "Print a message based on whether the condition is `True` or `False`:"
            ],
            "metadata": {
                "azdata_cell_guid": "05411015-202c-4afa-b1be-eacd61e19937"
            },
            "attachments": {}
        },
        {
            "cell_type": "code",
            "source": [
                "a = 200\r\n",
                "b = 33\r\n",
                "\r\n",
                "if b > a:\r\n",
                "  print(\"b is greater than a\")\r\n",
                "else:\r\n",
                "  print(\"b is not greater than a\") "
            ],
            "metadata": {
                "azdata_cell_guid": "e8e07d36-842a-41c5-86b1-498f820d4530"
            },
            "outputs": [
                {
                    "name": "stdout",
                    "text": "b is not greater than a\n",
                    "output_type": "stream"
                }
            ],
            "execution_count": 72
        },
        {
            "cell_type": "markdown",
            "source": [
                "## Evaluate Values and Variables\n",
                "\n",
                "The `bool()` function allows you to evaluate any value, and give you `True` or `False` in return,\n",
                "\n",
                "### Example\n",
                "\n",
                "Evaluate a string and a number:"
            ],
            "metadata": {
                "azdata_cell_guid": "8d454f86-51a9-4e82-b039-d77c2e2351b9"
            },
            "attachments": {}
        },
        {
            "cell_type": "code",
            "source": [
                "print(bool(\"Hello\"))\r\n",
                "print(bool(15))"
            ],
            "metadata": {
                "azdata_cell_guid": "78fed2d3-007b-457c-b9e0-dc9e49c21268"
            },
            "outputs": [
                {
                    "name": "stdout",
                    "text": "True\nTrue\n",
                    "output_type": "stream"
                }
            ],
            "execution_count": 73
        },
        {
            "cell_type": "code",
            "source": [
                "#Evaluate two variables:\r\n",
                "x = \"Hello\"\r\n",
                "y = 15\r\n",
                "\r\n",
                "print(bool(x))\r\n",
                "print(bool(y))"
            ],
            "metadata": {
                "azdata_cell_guid": "54be6e5c-0116-451b-8dad-9c03486a6024"
            },
            "outputs": [
                {
                    "name": "stdout",
                    "text": "True\nTrue\n",
                    "output_type": "stream"
                }
            ],
            "execution_count": 74
        },
        {
            "cell_type": "markdown",
            "source": [
                "## Most Values are True\n",
                "\n",
                "Almost any value is evaluated to `True` if it has some sort of content.\n",
                "\n",
                "Any string is `True`, except empty strings.\n",
                "\n",
                "Any number is `True`, except `0`.\n",
                "\n",
                "Any list, tuple, set, and dictionary are `True`, except empty ones.\n",
                "\n",
                "### Example\n",
                "\n",
                "The following will return True:"
            ],
            "metadata": {
                "azdata_cell_guid": "abc3744f-9b9b-41eb-a063-386f64e5074e"
            },
            "attachments": {}
        },
        {
            "cell_type": "code",
            "source": [
                "bool(\"abc\")\r\n",
                "bool(123)\r\n",
                "bool([\"apple\", \"cherry\", \"banana\"])"
            ],
            "metadata": {
                "azdata_cell_guid": "86360129-1c55-4df7-b798-3aab23a5aadb"
            },
            "outputs": [
                {
                    "data": {
                        "text/plain": "True"
                    },
                    "metadata": {},
                    "execution_count": 75,
                    "output_type": "execute_result"
                }
            ],
            "execution_count": 75
        },
        {
            "cell_type": "markdown",
            "source": [
                "## Some Values are False\n",
                "\n",
                "In fact, there are not many values that evaluate to `False`, except empty values, such as `()`, `[]`, `{}`, `\"\"`, the number `0`, and the value `None`. And of course the value `False` evaluates to `False`.\n",
                "\n",
                "### Example\n",
                "\n",
                "The following will return False:"
            ],
            "metadata": {
                "azdata_cell_guid": "7b37d452-e066-4d7c-b9ab-dc846c52c764"
            },
            "attachments": {}
        },
        {
            "cell_type": "code",
            "source": [
                "bool(False)\r\n",
                "bool(None)\r\n",
                "bool(0)\r\n",
                "bool(\"\")\r\n",
                "bool(())\r\n",
                "bool([])\r\n",
                "bool({}) "
            ],
            "metadata": {
                "azdata_cell_guid": "b1dff02f-ac5a-4c0d-af06-3f5e18bc6b41",
                "tags": []
            },
            "outputs": [
                {
                    "data": {
                        "text/plain": "False"
                    },
                    "metadata": {},
                    "execution_count": 77,
                    "output_type": "execute_result"
                }
            ],
            "execution_count": 77
        },
        {
            "cell_type": "markdown",
            "source": [
                "One more value, or object in this case, evaluates to `False`, and that is if you have an object that is made from a class with a `__len__` function that returns `0` or `False`:\n",
                "\n",
                "### Example"
            ],
            "metadata": {
                "azdata_cell_guid": "9c9b639b-6bd2-4fc7-bee1-2b71e63769d3"
            },
            "attachments": {}
        },
        {
            "cell_type": "code",
            "source": [
                "class myclass():\r\n",
                "  def __len__(self):\r\n",
                "    return 0\r\n",
                "\r\n",
                "myobj = myclass()\r\n",
                "print(bool(myobj)) "
            ],
            "metadata": {
                "azdata_cell_guid": "804c47c1-59bc-4936-857c-05ac1d4877fd"
            },
            "outputs": [
                {
                    "name": "stdout",
                    "text": "False\n",
                    "output_type": "stream"
                }
            ],
            "execution_count": 78
        },
        {
            "cell_type": "markdown",
            "source": [
                "## Functions can Return a Boolean\n",
                "\n",
                "You can create functions that returns a Boolean Value:\n",
                "\n",
                "### Example\n",
                "\n",
                "Print the answer of a function:"
            ],
            "metadata": {
                "azdata_cell_guid": "e4472adc-a0e3-4adc-8fe7-c13c19047256"
            },
            "attachments": {}
        },
        {
            "cell_type": "code",
            "source": [
                "def myFunction() :\r\n",
                "  return True\r\n",
                "\r\n",
                "print(myFunction()) "
            ],
            "metadata": {
                "azdata_cell_guid": "b3708282-b47c-4c69-8cb6-0910bbadf20b"
            },
            "outputs": [
                {
                    "name": "stdout",
                    "text": "True\n",
                    "output_type": "stream"
                }
            ],
            "execution_count": 79
        },
        {
            "cell_type": "markdown",
            "source": [
                ""
            ],
            "metadata": {
                "azdata_cell_guid": "2779b5f2-9ae4-483d-a3b1-914d6172e943"
            }
        }
    ]
}